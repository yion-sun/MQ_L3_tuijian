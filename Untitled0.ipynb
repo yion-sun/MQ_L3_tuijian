{
  "nbformat": 4,
  "nbformat_minor": 0,
  "metadata": {
    "colab": {
      "name": "Untitled0.ipynb",
      "provenance": [],
      "authorship_tag": "ABX9TyO/xmoJsHkWJ4/ijl3umfvB",
      "include_colab_link": true
    },
    "kernelspec": {
      "name": "python3",
      "display_name": "Python 3"
    }
  },
  "cells": [
    {
      "cell_type": "markdown",
      "metadata": {
        "id": "view-in-github",
        "colab_type": "text"
      },
      "source": [
        "<a href=\"https://colab.research.google.com/github/yion-sun/MQ_L3_tuijian/blob/master/Untitled0.ipynb\" target=\"_parent\"><img src=\"https://colab.research.google.com/assets/colab-badge.svg\" alt=\"Open In Colab\"/></a>"
      ]
    },
    {
      "cell_type": "code",
      "metadata": {
        "id": "3DYySVpe_bIX",
        "colab_type": "code",
        "colab": {
          "base_uri": "https://localhost:8080/",
          "height": 309
        },
        "outputId": "88fe4c23-e0bf-4f46-a0cb-f24ee79e6187"
      },
      "source": [
        "# 安装第三方包\n",
        "!pip install surprise"
      ],
      "execution_count": 3,
      "outputs": [
        {
          "output_type": "stream",
          "text": [
            "Collecting surprise\n",
            "  Downloading https://files.pythonhosted.org/packages/61/de/e5cba8682201fcf9c3719a6fdda95693468ed061945493dea2dd37c5618b/surprise-0.1-py2.py3-none-any.whl\n",
            "Collecting scikit-surprise\n",
            "\u001b[?25l  Downloading https://files.pythonhosted.org/packages/97/37/5d334adaf5ddd65da99fc65f6507e0e4599d092ba048f4302fe8775619e8/scikit-surprise-1.1.1.tar.gz (11.8MB)\n",
            "\u001b[K     |████████████████████████████████| 11.8MB 2.7MB/s \n",
            "\u001b[?25hRequirement already satisfied: joblib>=0.11 in /usr/local/lib/python3.6/dist-packages (from scikit-surprise->surprise) (0.16.0)\n",
            "Requirement already satisfied: numpy>=1.11.2 in /usr/local/lib/python3.6/dist-packages (from scikit-surprise->surprise) (1.18.5)\n",
            "Requirement already satisfied: scipy>=1.0.0 in /usr/local/lib/python3.6/dist-packages (from scikit-surprise->surprise) (1.4.1)\n",
            "Requirement already satisfied: six>=1.10.0 in /usr/local/lib/python3.6/dist-packages (from scikit-surprise->surprise) (1.15.0)\n",
            "Building wheels for collected packages: scikit-surprise\n",
            "  Building wheel for scikit-surprise (setup.py) ... \u001b[?25l\u001b[?25hdone\n",
            "  Created wheel for scikit-surprise: filename=scikit_surprise-1.1.1-cp36-cp36m-linux_x86_64.whl size=1670930 sha256=b3b2a03a9438b115dca670d8f2d2e6040957a608e7448e06358fa02935d6f9c0\n",
            "  Stored in directory: /root/.cache/pip/wheels/78/9c/3d/41b419c9d2aff5b6e2b4c0fc8d25c538202834058f9ed110d0\n",
            "Successfully built scikit-surprise\n",
            "Installing collected packages: scikit-surprise, surprise\n",
            "Successfully installed scikit-surprise-1.1.1 surprise-0.1\n"
          ],
          "name": "stdout"
        }
      ]
    },
    {
      "cell_type": "code",
      "metadata": {
        "id": "pZTr7Fwz_E6F",
        "colab_type": "code",
        "colab": {}
      },
      "source": [
        "from surprise import SVD,SVDpp\n",
        "from surprise import Dataset\n",
        "from surprise.model_selection import cross_validate\n",
        "from surprise import Reader\n",
        "from surprise import accuracy\n",
        "from surprise.model_selection import KFold\n",
        "import pandas as pd\n",
        "import time"
      ],
      "execution_count": 4,
      "outputs": []
    },
    {
      "cell_type": "code",
      "metadata": {
        "id": "jy4XlkNwI-4x",
        "colab_type": "code",
        "colab": {
          "base_uri": "https://localhost:8080/",
          "height": 34
        },
        "outputId": "6693c5b6-1a23-41a9-feef-a6aaca37624e"
      },
      "source": [
        "# 挂载到driver\n",
        "from google.colab import drive\n",
        "drive.mount('/content/drive')\n",
        "\n",
        "# 更改目录\n",
        "import os\n",
        "os.chdir(\"/content/drive/My Drive/Colab Notebooks/\")"
      ],
      "execution_count": 5,
      "outputs": [
        {
          "output_type": "stream",
          "text": [
            "Mounted at /content/drive\n"
          ],
          "name": "stdout"
        }
      ]
    },
    {
      "cell_type": "code",
      "metadata": {
        "id": "dgAYWAH6_ucE",
        "colab_type": "code",
        "colab": {}
      },
      "source": [
        ""
      ],
      "execution_count": null,
      "outputs": []
    },
    {
      "cell_type": "code",
      "metadata": {
        "id": "g0V3NGXSJ13P",
        "colab_type": "code",
        "colab": {}
      },
      "source": [
        "# 数据读取\n",
        "reader = Reader(line_format='user item rating timestamp', sep=',', skip_lines=1)"
      ],
      "execution_count": 6,
      "outputs": []
    },
    {
      "cell_type": "code",
      "metadata": {
        "id": "MwBxwgsgJ5cc",
        "colab_type": "code",
        "colab": {}
      },
      "source": [
        "data = Dataset.load_from_file('/content/drive/My Drive/Colab Notebooks/BI/ratings.csv', reader=reader)"
      ],
      "execution_count": 7,
      "outputs": []
    },
    {
      "cell_type": "code",
      "metadata": {
        "id": "1pVncH2zBxCH",
        "colab_type": "code",
        "colab": {
          "base_uri": "https://localhost:8080/",
          "height": 34
        },
        "outputId": "9e0baa95-2602-47f0-a4c6-f0f822c48b97"
      },
      "source": [
        "print(data)"
      ],
      "execution_count": null,
      "outputs": [
        {
          "output_type": "stream",
          "text": [
            "<surprise.dataset.DatasetAutoFolds object at 0x7ff3a6cb5828>\n"
          ],
          "name": "stdout"
        }
      ]
    },
    {
      "cell_type": "code",
      "metadata": {
        "id": "bzDakAXpDz25",
        "colab_type": "code",
        "colab": {}
      },
      "source": [
        "# 使用funkSVD\n",
        "time1=time.time()\n",
        "algo = SVD(biased=False)"
      ],
      "execution_count": null,
      "outputs": []
    },
    {
      "cell_type": "code",
      "metadata": {
        "id": "sP2ePZdbKvtp",
        "colab_type": "code",
        "colab": {
          "base_uri": "https://localhost:8080/",
          "height": 68
        },
        "outputId": "0683a3bd-783c-4f5b-d877-1ba51e5378a7"
      },
      "source": [
        "# 定义K折交叉验证迭代器，K=3\n",
        "kf = KFold(n_splits=3)\n",
        "for trainset, testset in kf.split(data):\n",
        "    # 训练并预测\n",
        "    algo.fit(trainset)\n",
        "    predictions = algo.test(testset)\n",
        "    # 计算RMSE\n",
        "    accuracy.rmse(predictions, verbose=True)"
      ],
      "execution_count": null,
      "outputs": [
        {
          "output_type": "stream",
          "text": [
            "RMSE: 0.8752\n",
            "RMSE: 0.8730\n",
            "RMSE: 0.8714\n"
          ],
          "name": "stdout"
        }
      ]
    },
    {
      "cell_type": "code",
      "metadata": {
        "id": "W1bJx0SZQc57",
        "colab_type": "code",
        "colab": {
          "base_uri": "https://localhost:8080/",
          "height": 51
        },
        "outputId": "766722cf-1a9e-4467-bf2b-1f1f06f04f15"
      },
      "source": [
        "uid = str(196)\n",
        "iid = str(592)\n",
        "# 输出uid对iid的预测结果\n",
        "pred = algo.predict(uid, iid, verbose=True)\n",
        "time2=time.time()\n",
        "print(time2-time1)"
      ],
      "execution_count": null,
      "outputs": [
        {
          "output_type": "stream",
          "text": [
            "user: 196        item: 592        r_ui = None   est = 3.58   {'was_impossible': False}\n",
            "3798.961417198181\n"
          ],
          "name": "stdout"
        }
      ]
    },
    {
      "cell_type": "code",
      "metadata": {
        "id": "ggpHcIeQV5sP",
        "colab_type": "code",
        "colab": {
          "base_uri": "https://localhost:8080/",
          "height": 51
        },
        "outputId": "6483c772-bd5b-4be8-e2eb-9545f8645d4b"
      },
      "source": [
        "uid = str(196)\n",
        "iid = str(1128)\n",
        "# 输出uid对iid的预测结果\n",
        "pred = algo.predict(uid, iid, verbose=True)\n",
        "time2=time.time()\n",
        "print(time2-time1)"
      ],
      "execution_count": null,
      "outputs": [
        {
          "output_type": "stream",
          "text": [
            "user: 196        item: 1128       r_ui = None   est = 2.88   {'was_impossible': False}\n",
            "3788.430494785309\n"
          ],
          "name": "stdout"
        }
      ]
    },
    {
      "cell_type": "code",
      "metadata": {
        "id": "sqFRPq2JSpMX",
        "colab_type": "code",
        "colab": {}
      },
      "source": [
        "# 使用biasSVD\n",
        "biasSVD = SVD()"
      ],
      "execution_count": null,
      "outputs": []
    },
    {
      "cell_type": "code",
      "metadata": {
        "id": "QTlKTbLkZizi",
        "colab_type": "code",
        "colab": {
          "base_uri": "https://localhost:8080/",
          "height": 68
        },
        "outputId": "a6a50f74-769d-453e-fd5a-14f6ecf2e4e4"
      },
      "source": [
        "# 定义K折交叉验证迭代器，K=3\n",
        "biasSVD_kf = KFold(n_splits=3)\n",
        "for trainset, testset in biasSVD_kf.split(data):\n",
        "    # 训练并预测\n",
        "    biasSVD.fit(trainset)\n",
        "    predictions = biasSVD.test(testset)\n",
        "    # 计算RMSE\n",
        "    accuracy.rmse(predictions, verbose=True)\n"
      ],
      "execution_count": null,
      "outputs": [
        {
          "output_type": "stream",
          "text": [
            "RMSE: 0.8452\n",
            "RMSE: 0.8476\n",
            "RMSE: 0.8435\n"
          ],
          "name": "stdout"
        }
      ]
    },
    {
      "cell_type": "code",
      "metadata": {
        "id": "VA9XLZw_arjJ",
        "colab_type": "code",
        "colab": {
          "base_uri": "https://localhost:8080/",
          "height": 34
        },
        "outputId": "217fdb66-73df-45ee-88d5-236001bdc9ae"
      },
      "source": [
        "uid = str(196)\n",
        "iid = str(1128)\n",
        "# 输出uid对iid的预测结果\n",
        "biasSVD_pred = biasSVD.predict(uid, iid, verbose=True)"
      ],
      "execution_count": null,
      "outputs": [
        {
          "output_type": "stream",
          "text": [
            "user: 196        item: 1128       r_ui = None   est = 2.81   {'was_impossible': False}\n"
          ],
          "name": "stdout"
        }
      ]
    },
    {
      "cell_type": "code",
      "metadata": {
        "id": "EY9w_A7vadme",
        "colab_type": "code",
        "colab": {}
      },
      "source": [
        "# 使用SVDpp\n",
        "svdpp = SVDpp()"
      ],
      "execution_count": 8,
      "outputs": []
    },
    {
      "cell_type": "code",
      "metadata": {
        "id": "8siVm01hbza7",
        "colab_type": "code",
        "colab": {
          "base_uri": "https://localhost:8080/",
          "height": 68
        },
        "outputId": "3193bcdc-9d1e-43f4-9cf7-c105f56f8713"
      },
      "source": [
        "# 定义K折交叉验证迭代器，K=3\n",
        "svdpp_kf = KFold(n_splits=3)\n",
        "for trainset, testset in svdpp_kf.split(data):\n",
        "    # 训练并预测\n",
        "    svdpp.fit(trainset)\n",
        "    predictions = svdpp.test(testset)\n",
        "    # 计算RMSE\n",
        "    accuracy.rmse(predictions, verbose=True)"
      ],
      "execution_count": 9,
      "outputs": [
        {
          "output_type": "stream",
          "text": [
            "RMSE: 0.8298\n",
            "RMSE: 0.8325\n",
            "RMSE: 0.8279\n"
          ],
          "name": "stdout"
        }
      ]
    },
    {
      "cell_type": "code",
      "metadata": {
        "id": "IVetrwdIcK02",
        "colab_type": "code",
        "colab": {
          "base_uri": "https://localhost:8080/",
          "height": 34
        },
        "outputId": "1614ad16-a387-4dea-b0d4-78159624b645"
      },
      "source": [
        "uid = str(196)\n",
        "iid = str(1128)\n",
        "# 输出uid对iid的预测结果\n",
        "svdpp_pred = svdpp.predict(uid, iid, verbose=True)"
      ],
      "execution_count": 10,
      "outputs": [
        {
          "output_type": "stream",
          "text": [
            "user: 196        item: 1128       r_ui = None   est = 3.11   {'was_impossible': False}\n"
          ],
          "name": "stdout"
        }
      ]
    },
    {
      "cell_type": "code",
      "metadata": {
        "id": "pAecYruF1uEh",
        "colab_type": "code",
        "colab": {}
      },
      "source": [
        ""
      ],
      "execution_count": null,
      "outputs": []
    }
  ]
}